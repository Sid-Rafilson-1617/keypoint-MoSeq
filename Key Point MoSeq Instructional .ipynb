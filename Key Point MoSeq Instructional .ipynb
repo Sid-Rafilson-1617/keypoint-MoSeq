{
 "cells": [
  {
   "cell_type": "markdown",
   "id": "0ac6c0f2",
   "metadata": {},
   "source": [
    "# This notebook contains information for the use of Key Point MoSeq"
   ]
  },
  {
   "cell_type": "markdown",
   "id": "a295ec82",
   "metadata": {},
   "source": [
    "## Project Setup"
   ]
  },
  {
   "cell_type": "markdown",
   "id": "f0d2ee92",
   "metadata": {},
   "source": [
    "### Creating a new project directory with a config.yml file"
   ]
  },
  {
   "cell_type": "code",
   "execution_count": 2,
   "id": "ac2dd762",
   "metadata": {},
   "outputs": [],
   "source": [
    "import keypoint_moseq as kpms\n",
    "\n",
    "project_dir = 'name_of_project'\n",
    "config = lambda: kpms.load_config(project_dir)"
   ]
  },
  {
   "cell_type": "markdown",
   "id": "206ad198",
   "metadata": {},
   "source": [
    "### Loading a SLEAP file with predictions for a single video. \n",
    "Should be a .slp or .h5 file"
   ]
  },
  {
   "cell_type": "code",
   "execution_count": null,
   "id": "0b690546",
   "metadata": {},
   "outputs": [],
   "source": [
    "sleap_file = 'name_of_file'\n",
    "kpms.setup_project(project_dir, sleap_file = sleap_file)"
   ]
  },
  {
   "cell_type": "markdown",
   "id": "b64c3e9b",
   "metadata": {},
   "source": [
    "At his point, the config file should be edited in a text editor, VS code, or using the update_config function as shown below. Only need to include 1 body part for anterior/posterior_bodyparts for rotational alignment. Datta suggests excluding tail from analysis."
   ]
  },
  {
   "cell_type": "code",
   "execution_count": null,
   "id": "666eb99e",
   "metadata": {},
   "outputs": [],
   "source": [
    "kpms.update_config(\n",
    "    project_dir,\n",
    "    video_dir='path/to/videos/',\n",
    "    anterior_bodyparts = ['nose'],\n",
    "    posterior_bodyparts = ['spine'],\n",
    "    use_bodyparts=['nose', 'RHB', 'LHB', 'CHB', 'spine1', 'spine2', 'BT'])"
   ]
  },
  {
   "cell_type": "markdown",
   "id": "d8e6a15e",
   "metadata": {},
   "source": [
    "### Loading keypoint detections from SLEAP"
   ]
  },
  {
   "cell_type": "code",
   "execution_count": null,
   "id": "7575476a",
   "metadata": {},
   "outputs": [],
   "source": [
    "keypoint_data_path = 'path\\to\\data'\n",
    "coordinates, confidence, bodyparts = kpms.load_keypoints(keypoint_data_path), 'sleap')\n",
    "\n",
    "data, metadata = kpms.format_data(coordinates, confidence, **config())"
   ]
  },
  {
   "cell_type": "markdown",
   "id": "73608c86",
   "metadata": {},
   "source": [
    "## Calibration"
   ]
  },
  {
   "cell_type": "markdown",
   "id": "0fd56132",
   "metadata": {},
   "source": [
    "This step allows us to understand the relationship between errors and keypoint confidence scores. The resulting regression coefficients (slope and intercept) are used durring modeling to set the noise on a per-frame, per-keypoint basis. also, the confidence_threshold parameter can be passed to define outlier keypoints for PCA and model initialization"
   ]
  },
  {
   "cell_type": "code",
   "execution_count": null,
   "id": "ff5602ab",
   "metadata": {},
   "outputs": [],
   "source": [
    "kpms.noise_calibration(project_dir, coordinates, confidence, **config())"
   ]
  },
  {
   "cell_type": "markdown",
   "id": "6a7ac500",
   "metadata": {},
   "source": [
    "After this code is run a widget should appear with video frames on the left. If the widget does not appear there is an issue with the jupyter notebook extensions and the code should be opened in jupyter lab instead. Anotate each frame with the correct location of the labeled bodypart. Left click to specify the correct location (an X should appear). Use the arrow buttons to annotate additional frames. Make sure to save using the save button in the widget."
   ]
  },
  {
   "cell_type": "markdown",
   "id": "d2b3a666",
   "metadata": {},
   "source": [
    "# Fit PCA model to aligned and centered keypoint coordinates"
   ]
  },
  {
   "cell_type": "code",
   "execution_count": null,
   "id": "f38620cc",
   "metadata": {},
   "outputs": [],
   "source": [
    "pca = kpms.fit_pca(**data, **config())\n",
    "kpms.save_pca(pca, project_dir)\n",
    "\n",
    "kpms.print_dims_to_explain_variance(pca, 0.9)\n",
    "kpms.plot_scree(pca, project_dir=project_dir)\n",
    "kpms.plot_pcs(pca, project_dir+project_dir, **config())"
   ]
  },
  {
   "cell_type": "markdown",
   "id": "231ba67e",
   "metadata": {},
   "source": [
    "If a PCA model has already been fit to the key point data, this can be loaded with the following code"
   ]
  },
  {
   "cell_type": "code",
   "execution_count": null,
   "id": "64d14cf1",
   "metadata": {},
   "outputs": [],
   "source": [
    "pca = kpms.load_pca(project_dir)"
   ]
  },
  {
   "cell_type": "markdown",
   "id": "5740b4e5",
   "metadata": {},
   "source": [
    "at this point, the latent_dimension attribute in the config file should be updated to reflect the PCA model. A good heuristic sugested by Datta is the number of dimensions to explain 90% or 10 dimensions - whichever is lower."
   ]
  },
  {
   "cell_type": "code",
   "execution_count": null,
   "id": "a36ada7b",
   "metadata": {},
   "outputs": [],
   "source": [
    "kpms.update_config(project_dir, latent_dim = # of componants)"
   ]
  },
  {
   "cell_type": "markdown",
   "id": "ed7315ec",
   "metadata": {},
   "source": [
    "# Modeling Fitting"
   ]
  },
  {
   "cell_type": "markdown",
   "id": "e72f69bd",
   "metadata": {},
   "source": [
    "### setting kappa\n",
    "\n",
    "Most users will need to adjust the kappa hyperparameter to achieve the desired distribtion of syllable durations. Higher values of kappa lead to longer syllables. Also, you will need to pick two kappas: one for AR-HMM fitting and another for the full model. Kappa should be itteratively updated with refitted models until target syllable time-scale is attained. Model fitting can be stopped at any time by interupting the kernel, then restarted with a new kappa value. The full model will generally require a lower value for kappa to yield the same target syllable durations.\n",
    "\n",
    "Kappa can be adjusted using kpms.update_hypparams. use small values, start with 1e4"
   ]
  },
  {
   "cell_type": "markdown",
   "id": "243c0686",
   "metadata": {},
   "source": [
    "## Initialization"
   ]
  },
  {
   "cell_type": "code",
   "execution_count": null,
   "id": "d0e96ab2",
   "metadata": {},
   "outputs": [],
   "source": [
    "model = kpms.init_model(data, pca = pca, **config())\n",
    "\n",
    "model = kpms.updatehypparams(model, kappa = NUMBER)"
   ]
  },
  {
   "cell_type": "markdown",
   "id": "2748236c",
   "metadata": {},
   "source": [
    "## Fitting an AR-HMM"
   ]
  },
  {
   "cell_type": "code",
   "execution_count": null,
   "id": "738ae5d5",
   "metadata": {},
   "outputs": [],
   "source": [
    "num_ar_iters = 50\n",
    "\n",
    "model, model_name = kpms.fit_model(\n",
    "    model, data, metadata, project_dir,\n",
    "    ar_only=True, num_iters=num_ar_iters)"
   ]
  },
  {
   "cell_type": "markdown",
   "id": "b91a6ce8",
   "metadata": {},
   "source": [
    "## Fitting the full model\n",
    "\n",
    "This code fits a full keypoint-moseq model using the results of the previous step AR-HMM fitting for initialization. You may need to try a few values of kappa at this step"
   ]
  },
  {
   "cell_type": "code",
   "execution_count": null,
   "id": "dd523482",
   "metadata": {},
   "outputs": [],
   "source": [
    "model, data, metadata, current_iter = kpms.load_checkpoint(\n",
    "    project_dir, model_name, iteration = num_ar_iters)\n",
    "\n",
    "model = kpms.update_hyperparams(model, kappa=NUMBER)\n",
    "\n",
    "model = kpms.fit_model(\n",
    "    model, data, metadata, project_dir, model_name, ar_only=False,\n",
    "    start_iter=current_iter, num_iters=current_iter+500)[0]"
   ]
  },
  {
   "cell_type": "markdown",
   "id": "01d4dae0",
   "metadata": {},
   "source": [
    "## Sort syllables by frequency\n",
    "\n",
    "syllable 0 is the most frequent, 1 is second most etc.\n",
    "\n",
    "This code is only applied to sorting the checkpoint file so if this code is run after extracting modeling results or generating visualizations, then those steps will need to be rerun.\n",
    "\n"
   ]
  },
  {
   "cell_type": "code",
   "execution_count": null,
   "id": "6ecbb1d2",
   "metadata": {},
   "outputs": [],
   "source": [
    "kpms.reindex_syllables_in_checkpoint(project_dir, model_name);"
   ]
  },
  {
   "cell_type": "markdown",
   "id": "30bd9ffe",
   "metadata": {},
   "source": [
    "## extract model results\n",
    "\n",
    "Parse model results and save them to {project_dir}\\{model_name}\\results.h5\n",
    "\n",
    "These results can be loaded using kpms.lead_results"
   ]
  },
  {
   "cell_type": "code",
   "execution_count": null,
   "id": "65e310a4",
   "metadata": {},
   "outputs": [],
   "source": [
    "model, data, metadata, current_iter = kpms.load_checkpoint(project_dir, model_name)\n",
    "\n",
    "results = kpms.extract_results(model, metadata, project_dir, model_name)"
   ]
  },
  {
   "cell_type": "markdown",
   "id": "b33ad674",
   "metadata": {},
   "source": [
    "## Save results to csv"
   ]
  },
  {
   "cell_type": "code",
   "execution_count": null,
   "id": "4c1047d2",
   "metadata": {},
   "outputs": [],
   "source": [
    "kpms.save_results_as_csv(results, project_dir, model_name)"
   ]
  },
  {
   "cell_type": "markdown",
   "id": "f7a5d562",
   "metadata": {},
   "source": [
    "## apply model to new data\n",
    "\n",
    "This is useful if you performed a new experiment and would like to maintain an existing set of syllables. The results of the new experiment will be added to the existing results.h5 file."
   ]
  },
  {
   "cell_type": "code",
   "execution_count": null,
   "id": "3c1ccfb2",
   "metadata": {},
   "outputs": [],
   "source": [
    "# load the most recent model checkpoint and pca object\n",
    "model = kpms.load_checkpoint(project_dir, model_name)[0]\n",
    "pca = kpms.load_pca(project_dir)\n",
    "\n",
    "# load new data (e.g. from deeplabcut)\n",
    "new_data = 'path/to/new/data/' # can be a file, a directory, or a list of files\n",
    "coordinates, confidences, bodyparts = kpms.load_keypoints(new_data, 'deeplabcut')\n",
    "data, metadata = kpms.format_data(coordinates, confidences, **config())\n",
    "\n",
    "# apply saved model to new data\n",
    "results = kpms.apply_model(model, pca, data, metadata, project_dir, model_name, **config())\n",
    "\n",
    "# optionally rerun `save_results_as_csv` to export the new results\n",
    "# kpms.save_results_as_csv(results, project_dir, model_name)"
   ]
  },
  {
   "cell_type": "markdown",
   "id": "6ccf4879",
   "metadata": {},
   "source": [
    "## Visualization\n"
   ]
  },
  {
   "cell_type": "markdown",
   "id": "83be8290",
   "metadata": {},
   "source": [
    "### Trajectory plots"
   ]
  },
  {
   "cell_type": "code",
   "execution_count": null,
   "id": "fd811fdf",
   "metadata": {},
   "outputs": [],
   "source": [
    "results = kpms.load_results(project_dir, model_name)\n",
    "kpms.generate_trajectory_plots(coordinates, results, project_dir, model_name, **config())"
   ]
  },
  {
   "cell_type": "markdown",
   "id": "47d627f1",
   "metadata": {},
   "source": [
    "### Grid movies"
   ]
  },
  {
   "cell_type": "code",
   "execution_count": null,
   "id": "0b05ec4a",
   "metadata": {},
   "outputs": [],
   "source": [
    "kpms.generate_grid_movies(results, project_dir, model_name, coordinates=coordinates, **config())"
   ]
  },
  {
   "cell_type": "markdown",
   "id": "e60a0534",
   "metadata": {},
   "source": [
    "### Syllable Dendrogram\n",
    "\n",
    "Plot a dendogram representing distance between each syllable's median trajectory\n"
   ]
  },
  {
   "cell_type": "code",
   "execution_count": null,
   "id": "63493491",
   "metadata": {},
   "outputs": [],
   "source": [
    "kpms.plot_similarity_dendrogram(coordinates, results, project_dir, model_name, **config())"
   ]
  }
 ],
 "metadata": {
  "kernelspec": {
   "display_name": "keypoint_moseq",
   "language": "python",
   "name": "keypoint_moseq"
  },
  "language_info": {
   "codemirror_mode": {
    "name": "ipython",
    "version": 3
   },
   "file_extension": ".py",
   "mimetype": "text/x-python",
   "name": "python",
   "nbconvert_exporter": "python",
   "pygments_lexer": "ipython3",
   "version": "3.9.17"
  }
 },
 "nbformat": 4,
 "nbformat_minor": 5
}
